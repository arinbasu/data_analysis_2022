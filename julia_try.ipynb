{
 "cells": [
  {
   "cell_type": "code",
   "execution_count": null,
   "metadata": {},
   "outputs": [],
   "source": [
    "---\n",
    "title: \"Test\"\n",
    "format: html\n",
    "---"
   ]
  },
  {
   "cell_type": "code",
   "execution_count": 51,
   "metadata": {},
   "outputs": [],
   "source": [
    "using Plots\n",
    "using DataFrames\n",
    "using CSV\n",
    "using Downloads\n",
    "using GLM\n",
    "using CategoricalArrays\n",
    "using StatsBase\n",
    "using FreqTables\n",
    "using StatsPlots\n"
   ]
  },
  {
   "cell_type": "code",
   "execution_count": 7,
   "metadata": {},
   "outputs": [
    {
     "data": {
      "text/html": [
       "<div class=\"data-frame\"><p>1 rows × 2 columns</p><table class=\"data-frame\"><thead><tr><th></th><th>x</th><th>y</th></tr><tr><th></th><th title=\"Int64\">Int64</th><th title=\"Int64\">Int64</th></tr></thead><tbody><tr><th>1</th><td>4</td><td>8</td></tr></tbody></table></div>"
      ],
      "text/latex": [
       "\\begin{tabular}{r|cc}\n",
       "\t& x & y\\\\\n",
       "\t\\hline\n",
       "\t& Int64 & Int64\\\\\n",
       "\t\\hline\n",
       "\t1 & 4 & 8 \\\\\n",
       "\\end{tabular}\n"
      ],
      "text/plain": [
       "\u001b[1m1×2 DataFrame\u001b[0m\n",
       "\u001b[1m Row \u001b[0m│\u001b[1m x     \u001b[0m\u001b[1m y     \u001b[0m\n",
       "\u001b[1m     \u001b[0m│\u001b[90m Int64 \u001b[0m\u001b[90m Int64 \u001b[0m\n",
       "─────┼──────────────\n",
       "   1 │     4      8"
      ]
     },
     "execution_count": 7,
     "metadata": {},
     "output_type": "execute_result"
    }
   ],
   "source": [
    "myarray = [1,2,3,4]\n",
    "mya2 = [5,6,7,8]\n",
    "df = DataFrame(x = myarray, y = mya2)\n",
    "\n",
    "function is_four(x)\n",
    "    return x == 4\n",
    "end\n",
    "\n",
    "map(is_four, myarray)\n",
    "is_four(myarray)\n",
    "filter(:x => is_four, df)\n",
    "\n"
   ]
  },
  {
   "cell_type": "code",
   "execution_count": 8,
   "metadata": {},
   "outputs": [
    {
     "data": {
      "text/plain": [
       "\"https://gist.githubusercontent.com/seankross/a412dfbd88b3db70b74b/raw/5f23f993cd87c283ce766e7ac6b329ee7cc2e1d1/mtcars.csv\""
      ]
     },
     "execution_count": 8,
     "metadata": {},
     "output_type": "execute_result"
    }
   ],
   "source": [
    "mtcars = \"https://gist.githubusercontent.com/seankross/a412dfbd88b3db70b74b/raw/5f23f993cd87c283ce766e7ac6b329ee7cc2e1d1/mtcars.csv\""
   ]
  },
  {
   "cell_type": "code",
   "execution_count": 16,
   "metadata": {},
   "outputs": [
    {
     "data": {
      "text/html": [
       "<div class=\"data-frame\"><p>3 rows × 12 columns (omitted printing of 3 columns)</p><table class=\"data-frame\"><thead><tr><th></th><th>model</th><th>mpg</th><th>cyl</th><th>disp</th><th>hp</th><th>drat</th><th>wt</th><th>qsec</th><th>vs</th></tr><tr><th></th><th title=\"String31\">String31</th><th title=\"Float64\">Float64</th><th title=\"Int64\">Int64</th><th title=\"Float64\">Float64</th><th title=\"Int64\">Int64</th><th title=\"Float64\">Float64</th><th title=\"Float64\">Float64</th><th title=\"Float64\">Float64</th><th title=\"Int64\">Int64</th></tr></thead><tbody><tr><th>1</th><td>Mazda RX4</td><td>21.0</td><td>6</td><td>160.0</td><td>110</td><td>3.9</td><td>2.62</td><td>16.46</td><td>0</td></tr><tr><th>2</th><td>Mazda RX4 Wag</td><td>21.0</td><td>6</td><td>160.0</td><td>110</td><td>3.9</td><td>2.875</td><td>17.02</td><td>0</td></tr><tr><th>3</th><td>Datsun 710</td><td>22.8</td><td>4</td><td>108.0</td><td>93</td><td>3.85</td><td>2.32</td><td>18.61</td><td>1</td></tr></tbody></table></div>"
      ],
      "text/latex": [
       "\\begin{tabular}{r|cccccccccc}\n",
       "\t& model & mpg & cyl & disp & hp & drat & wt & qsec & vs & \\\\\n",
       "\t\\hline\n",
       "\t& String31 & Float64 & Int64 & Float64 & Int64 & Float64 & Float64 & Float64 & Int64 & \\\\\n",
       "\t\\hline\n",
       "\t1 & Mazda RX4 & 21.0 & 6 & 160.0 & 110 & 3.9 & 2.62 & 16.46 & 0 & $\\dots$ \\\\\n",
       "\t2 & Mazda RX4 Wag & 21.0 & 6 & 160.0 & 110 & 3.9 & 2.875 & 17.02 & 0 & $\\dots$ \\\\\n",
       "\t3 & Datsun 710 & 22.8 & 4 & 108.0 & 93 & 3.85 & 2.32 & 18.61 & 1 & $\\dots$ \\\\\n",
       "\\end{tabular}\n"
      ],
      "text/plain": [
       "\u001b[1m3×12 DataFrame\u001b[0m\n",
       "\u001b[1m Row \u001b[0m│\u001b[1m model         \u001b[0m\u001b[1m mpg     \u001b[0m\u001b[1m cyl   \u001b[0m\u001b[1m disp    \u001b[0m\u001b[1m hp    \u001b[0m\u001b[1m drat    \u001b[0m\u001b[1m wt      \u001b[0m\u001b[1m qsec  \u001b[0m ⋯\n",
       "\u001b[1m     \u001b[0m│\u001b[90m String31      \u001b[0m\u001b[90m Float64 \u001b[0m\u001b[90m Int64 \u001b[0m\u001b[90m Float64 \u001b[0m\u001b[90m Int64 \u001b[0m\u001b[90m Float64 \u001b[0m\u001b[90m Float64 \u001b[0m\u001b[90m Float6\u001b[0m ⋯\n",
       "─────┼──────────────────────────────────────────────────────────────────────────\n",
       "   1 │ Mazda RX4         21.0      6    160.0    110     3.9     2.62     16.4 ⋯\n",
       "   2 │ Mazda RX4 Wag     21.0      6    160.0    110     3.9     2.875    17.0\n",
       "   3 │ Datsun 710        22.8      4    108.0     93     3.85    2.32     18.6\n",
       "\u001b[36m                                                               5 columns omitted\u001b[0m"
      ]
     },
     "execution_count": 16,
     "metadata": {},
     "output_type": "execute_result"
    }
   ],
   "source": [
    "# read mtcars \n",
    "# using Downloads.download() to first download the file\n",
    "# then reading the file using CSV package, then\n",
    "# passing the data to DataFrame\n",
    "\n",
    "carsdf = Downloads.download(mtcars) |>\n",
    " CSV.File |>\n",
    " DataFrame\n",
    "\n",
    "## first three rows\n",
    "first(carsdf, 3) "
   ]
  },
  {
   "cell_type": "code",
   "execution_count": 17,
   "metadata": {},
   "outputs": [
    {
     "data": {
      "text/html": [
       "<div class=\"data-frame\"><p>3 rows × 12 columns (omitted printing of 3 columns)</p><table class=\"data-frame\"><thead><tr><th></th><th>model</th><th>mpg</th><th>cyl</th><th>disp</th><th>hp</th><th>drat</th><th>wt</th><th>qsec</th><th>vs</th></tr><tr><th></th><th title=\"String31\">String31</th><th title=\"Float64\">Float64</th><th title=\"Int64\">Int64</th><th title=\"Float64\">Float64</th><th title=\"Int64\">Int64</th><th title=\"Float64\">Float64</th><th title=\"Float64\">Float64</th><th title=\"Float64\">Float64</th><th title=\"Int64\">Int64</th></tr></thead><tbody><tr><th>1</th><td>Mazda RX4</td><td>21.0</td><td>6</td><td>160.0</td><td>110</td><td>3.9</td><td>2.62</td><td>16.46</td><td>0</td></tr><tr><th>2</th><td>Mazda RX4 Wag</td><td>21.0</td><td>6</td><td>160.0</td><td>110</td><td>3.9</td><td>2.875</td><td>17.02</td><td>0</td></tr><tr><th>3</th><td>Hornet 4 Drive</td><td>21.4</td><td>6</td><td>258.0</td><td>110</td><td>3.08</td><td>3.215</td><td>19.44</td><td>1</td></tr></tbody></table></div>"
      ],
      "text/latex": [
       "\\begin{tabular}{r|cccccccccc}\n",
       "\t& model & mpg & cyl & disp & hp & drat & wt & qsec & vs & \\\\\n",
       "\t\\hline\n",
       "\t& String31 & Float64 & Int64 & Float64 & Int64 & Float64 & Float64 & Float64 & Int64 & \\\\\n",
       "\t\\hline\n",
       "\t1 & Mazda RX4 & 21.0 & 6 & 160.0 & 110 & 3.9 & 2.62 & 16.46 & 0 & $\\dots$ \\\\\n",
       "\t2 & Mazda RX4 Wag & 21.0 & 6 & 160.0 & 110 & 3.9 & 2.875 & 17.02 & 0 & $\\dots$ \\\\\n",
       "\t3 & Hornet 4 Drive & 21.4 & 6 & 258.0 & 110 & 3.08 & 3.215 & 19.44 & 1 & $\\dots$ \\\\\n",
       "\\end{tabular}\n"
      ],
      "text/plain": [
       "\u001b[1m3×12 DataFrame\u001b[0m\n",
       "\u001b[1m Row \u001b[0m│\u001b[1m model          \u001b[0m\u001b[1m mpg     \u001b[0m\u001b[1m cyl   \u001b[0m\u001b[1m disp    \u001b[0m\u001b[1m hp    \u001b[0m\u001b[1m drat    \u001b[0m\u001b[1m wt      \u001b[0m\u001b[1m qsec \u001b[0m ⋯\n",
       "\u001b[1m     \u001b[0m│\u001b[90m String31       \u001b[0m\u001b[90m Float64 \u001b[0m\u001b[90m Int64 \u001b[0m\u001b[90m Float64 \u001b[0m\u001b[90m Int64 \u001b[0m\u001b[90m Float64 \u001b[0m\u001b[90m Float64 \u001b[0m\u001b[90m Float\u001b[0m ⋯\n",
       "─────┼──────────────────────────────────────────────────────────────────────────\n",
       "   1 │ Mazda RX4          21.0      6    160.0    110     3.9     2.62     16. ⋯\n",
       "   2 │ Mazda RX4 Wag      21.0      6    160.0    110     3.9     2.875    17.\n",
       "   3 │ Hornet 4 Drive     21.4      6    258.0    110     3.08    3.215    19.\n",
       "\u001b[36m                                                               5 columns omitted\u001b[0m"
      ]
     },
     "execution_count": 17,
     "metadata": {},
     "output_type": "execute_result"
    }
   ],
   "source": [
    "# filter all cars that have hp > 100\n",
    "# first define a function\n",
    "\n",
    "function gt100(x)\n",
    "    return x > 100\n",
    "end\n",
    "\n",
    "# then filter carsdf data set with this function to store it in a different dataset\n",
    "# apply the filter() \n",
    "# to the dataset carsdf\n",
    "# and pass the hp variable to the gt100() \n",
    "# to filter all cars with hp > 100\n",
    "\n",
    "carsdf2 = filter(:hp => gt100, carsdf)\n",
    "\n",
    "# inspect the first three rows\n",
    "first(carsdf2, 3)"
   ]
  },
  {
   "cell_type": "code",
   "execution_count": 18,
   "metadata": {},
   "outputs": [
    {
     "data": {
      "text/html": [
       "<div class=\"data-frame\"><p>3 rows × 6 columns</p><table class=\"data-frame\"><thead><tr><th></th><th>model</th><th>mpg</th><th>cyl</th><th>disp</th><th>hp</th><th>wt</th></tr><tr><th></th><th title=\"String31\">String31</th><th title=\"Float64\">Float64</th><th title=\"Int64\">Int64</th><th title=\"Float64\">Float64</th><th title=\"Int64\">Int64</th><th title=\"Float64\">Float64</th></tr></thead><tbody><tr><th>1</th><td>Mazda RX4</td><td>21.0</td><td>6</td><td>160.0</td><td>110</td><td>2.62</td></tr><tr><th>2</th><td>Mazda RX4 Wag</td><td>21.0</td><td>6</td><td>160.0</td><td>110</td><td>2.875</td></tr><tr><th>3</th><td>Hornet 4 Drive</td><td>21.4</td><td>6</td><td>258.0</td><td>110</td><td>3.215</td></tr></tbody></table></div>"
      ],
      "text/latex": [
       "\\begin{tabular}{r|cccccc}\n",
       "\t& model & mpg & cyl & disp & hp & wt\\\\\n",
       "\t\\hline\n",
       "\t& String31 & Float64 & Int64 & Float64 & Int64 & Float64\\\\\n",
       "\t\\hline\n",
       "\t1 & Mazda RX4 & 21.0 & 6 & 160.0 & 110 & 2.62 \\\\\n",
       "\t2 & Mazda RX4 Wag & 21.0 & 6 & 160.0 & 110 & 2.875 \\\\\n",
       "\t3 & Hornet 4 Drive & 21.4 & 6 & 258.0 & 110 & 3.215 \\\\\n",
       "\\end{tabular}\n"
      ],
      "text/plain": [
       "\u001b[1m3×6 DataFrame\u001b[0m\n",
       "\u001b[1m Row \u001b[0m│\u001b[1m model          \u001b[0m\u001b[1m mpg     \u001b[0m\u001b[1m cyl   \u001b[0m\u001b[1m disp    \u001b[0m\u001b[1m hp    \u001b[0m\u001b[1m wt      \u001b[0m\n",
       "\u001b[1m     \u001b[0m│\u001b[90m String31       \u001b[0m\u001b[90m Float64 \u001b[0m\u001b[90m Int64 \u001b[0m\u001b[90m Float64 \u001b[0m\u001b[90m Int64 \u001b[0m\u001b[90m Float64 \u001b[0m\n",
       "─────┼─────────────────────────────────────────────────────────\n",
       "   1 │ Mazda RX4          21.0      6    160.0    110    2.62\n",
       "   2 │ Mazda RX4 Wag      21.0      6    160.0    110    2.875\n",
       "   3 │ Hornet 4 Drive     21.4      6    258.0    110    3.215"
      ]
     },
     "execution_count": 18,
     "metadata": {},
     "output_type": "execute_result"
    }
   ],
   "source": [
    "# Select model, mpg, cyl, disp, hp, wt from this data set\n",
    "# use the select() and pass the data frame,\n",
    "# then select which columns you want\n",
    "# the columns are prefaced with a :\n",
    "# and store this new data to carsdf3\n",
    "carsdf3 = select(carsdf2, [:model, :mpg, :cyl, :disp, :hp, :wt])\n",
    "# check the first three rows\n",
    "first(carsdf3, 3)"
   ]
  },
  {
   "cell_type": "code",
   "execution_count": 21,
   "metadata": {},
   "outputs": [
    {
     "data": {
      "text/html": [
       "<div class=\"data-frame\"><p>3 rows × 7 columns</p><table class=\"data-frame\"><thead><tr><th></th><th>model</th><th>mpg</th><th>cyl</th><th>disp</th><th>hp</th><th>wt</th><th>cyl_cat</th></tr><tr><th></th><th title=\"String31\">String31</th><th title=\"Float64\">Float64</th><th title=\"Int64\">Int64</th><th title=\"Float64\">Float64</th><th title=\"Int64\">Int64</th><th title=\"Float64\">Float64</th><th title=\"CategoricalValue{Int64, UInt32}\">Cat…</th></tr></thead><tbody><tr><th>1</th><td>Mazda RX4</td><td>21.0</td><td>6</td><td>160.0</td><td>110</td><td>2.62</td><td>6</td></tr><tr><th>2</th><td>Mazda RX4 Wag</td><td>21.0</td><td>6</td><td>160.0</td><td>110</td><td>2.875</td><td>6</td></tr><tr><th>3</th><td>Hornet 4 Drive</td><td>21.4</td><td>6</td><td>258.0</td><td>110</td><td>3.215</td><td>6</td></tr></tbody></table></div>"
      ],
      "text/latex": [
       "\\begin{tabular}{r|ccccccc}\n",
       "\t& model & mpg & cyl & disp & hp & wt & cyl\\_cat\\\\\n",
       "\t\\hline\n",
       "\t& String31 & Float64 & Int64 & Float64 & Int64 & Float64 & Cat…\\\\\n",
       "\t\\hline\n",
       "\t1 & Mazda RX4 & 21.0 & 6 & 160.0 & 110 & 2.62 & 6 \\\\\n",
       "\t2 & Mazda RX4 Wag & 21.0 & 6 & 160.0 & 110 & 2.875 & 6 \\\\\n",
       "\t3 & Hornet 4 Drive & 21.4 & 6 & 258.0 & 110 & 3.215 & 6 \\\\\n",
       "\\end{tabular}\n"
      ],
      "text/plain": [
       "\u001b[1m3×7 DataFrame\u001b[0m\n",
       "\u001b[1m Row \u001b[0m│\u001b[1m model          \u001b[0m\u001b[1m mpg     \u001b[0m\u001b[1m cyl   \u001b[0m\u001b[1m disp    \u001b[0m\u001b[1m hp    \u001b[0m\u001b[1m wt      \u001b[0m\u001b[1m cyl_cat \u001b[0m\n",
       "\u001b[1m     \u001b[0m│\u001b[90m String31       \u001b[0m\u001b[90m Float64 \u001b[0m\u001b[90m Int64 \u001b[0m\u001b[90m Float64 \u001b[0m\u001b[90m Int64 \u001b[0m\u001b[90m Float64 \u001b[0m\u001b[90m Cat…    \u001b[0m\n",
       "─────┼──────────────────────────────────────────────────────────────────\n",
       "   1 │ Mazda RX4          21.0      6    160.0    110    2.62   6\n",
       "   2 │ Mazda RX4 Wag      21.0      6    160.0    110    2.875  6\n",
       "   3 │ Hornet 4 Drive     21.4      6    258.0    110    3.215  6"
      ]
     },
     "execution_count": 21,
     "metadata": {},
     "output_type": "execute_result"
    }
   ],
   "source": [
    "# Let's create a new variable cyl_cat as\n",
    "# categorised cyl variable\n",
    "# then use this variable to group this data\n",
    "# and calculate the mean mpg\n",
    "\n",
    "# create a new variable cyl_cat\n",
    "transform!(carsdf3, :cyl => categorical => :cyl_cat)\n",
    "\n",
    "# Note several things\n",
    "# transform! is a function that changes carsdf3 in place\n",
    "# => is a pair that passes the variable cyl to the function categorical() \n",
    "# from CategoricalArrays Pkg\n",
    "# and stores the new variable with a new name cyl_cat\n",
    "\n",
    "# first three rows\n",
    "first(carsdf3, 3)"
   ]
  },
  {
   "cell_type": "code",
   "execution_count": 35,
   "metadata": {},
   "outputs": [
    {
     "data": {
      "text/html": [
       "<div class=\"data-frame\"><p>3 rows × 3 columns</p><table class=\"data-frame\"><thead><tr><th></th><th>cyl_cat</th><th>mpg_mean</th><th>mpg_std</th></tr><tr><th></th><th title=\"CategoricalValue{Int64, UInt32}\">Cat…</th><th title=\"Float64\">Float64</th><th title=\"Float64\">Float64</th></tr></thead><tbody><tr><th>1</th><td>4</td><td>25.9</td><td>6.36396</td></tr><tr><th>2</th><td>6</td><td>19.7429</td><td>1.45357</td></tr><tr><th>3</th><td>8</td><td>15.1</td><td>2.56005</td></tr></tbody></table></div>"
      ],
      "text/latex": [
       "\\begin{tabular}{r|ccc}\n",
       "\t& cyl\\_cat & mpg\\_mean & mpg\\_std\\\\\n",
       "\t\\hline\n",
       "\t& Cat… & Float64 & Float64\\\\\n",
       "\t\\hline\n",
       "\t1 & 4 & 25.9 & 6.36396 \\\\\n",
       "\t2 & 6 & 19.7429 & 1.45357 \\\\\n",
       "\t3 & 8 & 15.1 & 2.56005 \\\\\n",
       "\\end{tabular}\n"
      ],
      "text/plain": [
       "\u001b[1m3×3 DataFrame\u001b[0m\n",
       "\u001b[1m Row \u001b[0m│\u001b[1m cyl_cat \u001b[0m\u001b[1m mpg_mean \u001b[0m\u001b[1m mpg_std \u001b[0m\n",
       "\u001b[1m     \u001b[0m│\u001b[90m Cat…    \u001b[0m\u001b[90m Float64  \u001b[0m\u001b[90m Float64 \u001b[0m\n",
       "─────┼────────────────────────────\n",
       "   1 │ 4         25.9     6.36396\n",
       "   2 │ 6         19.7429  1.45357\n",
       "   3 │ 8         15.1     2.56005"
      ]
     },
     "execution_count": 35,
     "metadata": {},
     "output_type": "execute_result"
    }
   ],
   "source": [
    "# We will now groupby carsdf3 by cyl_cat\n",
    "# then we will list the means of mpg, disp, hp, wt\n",
    "# and store them as a separate df\n",
    "# note the use of the dot operator here .\n",
    "# used to apply the same function over elements of an array\n",
    "\n",
    "grpdf = groupby(carsdf3, :cyl_cat) \n",
    "meandf = combine(grpdf, [:mpg, :disp, :hp, :wt] .=> mean)\n",
    "meansd = combine(grpdf, :mpg .=> [mean, std])\n",
    "# also, if you want two stats for the same variable\n",
    "# you specify the stats, and use a dot operator\n"
   ]
  },
  {
   "cell_type": "code",
   "execution_count": 41,
   "metadata": {},
   "outputs": [
    {
     "data": {
      "text/html": [
       "<div class=\"data-frame\"><p>4 rows × 3 columns</p><table class=\"data-frame\"><thead><tr><th></th><th>id</th><th>yr1</th><th>yr2</th></tr><tr><th></th><th title=\"String\">String</th><th title=\"Union{Missing, Int64}\">Int64?</th><th title=\"Union{Missing, Int64}\">Int64?</th></tr></thead><tbody><tr><th>1</th><td>A</td><td>1</td><td>5</td></tr><tr><th>2</th><td>B</td><td>2</td><td>6</td></tr><tr><th>3</th><td>C</td><td>3</td><td>7</td></tr><tr><th>4</th><td>D</td><td>4</td><td>8</td></tr></tbody></table></div>"
      ],
      "text/latex": [
       "\\begin{tabular}{r|ccc}\n",
       "\t& id & yr1 & yr2\\\\\n",
       "\t\\hline\n",
       "\t& String & Int64? & Int64?\\\\\n",
       "\t\\hline\n",
       "\t1 & A & 1 & 5 \\\\\n",
       "\t2 & B & 2 & 6 \\\\\n",
       "\t3 & C & 3 & 7 \\\\\n",
       "\t4 & D & 4 & 8 \\\\\n",
       "\\end{tabular}\n"
      ],
      "text/plain": [
       "\u001b[1m4×3 DataFrame\u001b[0m\n",
       "\u001b[1m Row \u001b[0m│\u001b[1m id     \u001b[0m\u001b[1m yr1    \u001b[0m\u001b[1m yr2    \u001b[0m\n",
       "\u001b[1m     \u001b[0m│\u001b[90m String \u001b[0m\u001b[90m Int64? \u001b[0m\u001b[90m Int64? \u001b[0m\n",
       "─────┼────────────────────────\n",
       "   1 │ A            1       5\n",
       "   2 │ B            2       6\n",
       "   3 │ C            3       7\n",
       "   4 │ D            4       8"
      ]
     },
     "execution_count": 41,
     "metadata": {},
     "output_type": "execute_result"
    }
   ],
   "source": [
    "## reshaping and stacking\n",
    "# stack() converts a wide data to long format\n",
    "# unstack() converts a long data to wide format\n",
    "\n",
    "id = [\"A\", \"B\", \"C\", \"D\"]\n",
    "year_1 = [1,2,3,4]\n",
    "year_2 = [5,6,7,8]\n",
    "dfyr = DataFrame(id = id, yr1 = year_1, yr2 = year_2)\n",
    "dfyr\n",
    "dfyr2 = stack(dfyr, [:yr1, :yr2])\n",
    "\n",
    "# when you stack, \n",
    "# stack() then pass the data frame then\n",
    "# the names of the :variables that you want to stack on\n",
    "\n",
    "dfyr3 = unstack(dfyr2, :id, :variable, :value)\n",
    "\n",
    "# Unstack is making a long df to wide format"
   ]
  },
  {
   "cell_type": "code",
   "execution_count": 58,
   "metadata": {},
   "outputs": [
    {
     "data": {
      "image/svg+xml": "<?xml version=\"1.0\" encoding=\"utf-8\"?>\n<svg xmlns=\"http://www.w3.org/2000/svg\" xmlns:xlink=\"http://www.w3.org/1999/xlink\" width=\"600\" height=\"400\" viewBox=\"0 0 2400 1600\">\n<defs>\n  <clipPath id=\"clip100\">\n    <rect x=\"0\" y=\"0\" width=\"2400\" height=\"1600\"/>\n  </clipPath>\n</defs>\n<path clip-path=\"url(#clip100)\" d=\"\nM0 1600 L2400 1600 L2400 0 L0 0  Z\n  \" fill=\"#ffffff\" fill-rule=\"evenodd\" fill-opacity=\"1\"/>\n<defs>\n  <clipPath id=\"clip101\">\n    <rect x=\"480\" y=\"0\" width=\"1681\" height=\"1600\"/>\n  </clipPath>\n</defs>\n<path clip-path=\"url(#clip100)\" d=\"\nM203.964 1423.18 L2352.76 1423.18 L2352.76 123.472 L203.964 123.472  Z\n  \" fill=\"#ffffff\" fill-rule=\"evenodd\" fill-opacity=\"1\"/>\n<defs>\n  <clipPath id=\"clip102\">\n    <rect x=\"203\" y=\"123\" width=\"2150\" height=\"1301\"/>\n  </clipPath>\n</defs>\n<polyline clip-path=\"url(#clip102)\" style=\"stroke:#000000; stroke-linecap:butt; stroke-linejoin:round; stroke-width:2; stroke-opacity:0.1; fill:none\" points=\"\n  517.202,1423.18 517.202,123.472 \n  \"/>\n<polyline clip-path=\"url(#clip102)\" style=\"stroke:#000000; stroke-linecap:butt; stroke-linejoin:round; stroke-width:2; stroke-opacity:0.1; fill:none\" points=\"\n  1035.53,1423.18 1035.53,123.472 \n  \"/>\n<polyline clip-path=\"url(#clip102)\" style=\"stroke:#000000; stroke-linecap:butt; stroke-linejoin:round; stroke-width:2; stroke-opacity:0.1; fill:none\" points=\"\n  1553.85,1423.18 1553.85,123.472 \n  \"/>\n<polyline clip-path=\"url(#clip102)\" style=\"stroke:#000000; stroke-linecap:butt; stroke-linejoin:round; stroke-width:2; stroke-opacity:0.1; fill:none\" points=\"\n  2072.17,1423.18 2072.17,123.472 \n  \"/>\n<polyline clip-path=\"url(#clip100)\" style=\"stroke:#000000; stroke-linecap:butt; stroke-linejoin:round; stroke-width:4; stroke-opacity:1; fill:none\" points=\"\n  203.964,1423.18 2352.76,1423.18 \n  \"/>\n<polyline clip-path=\"url(#clip100)\" style=\"stroke:#000000; stroke-linecap:butt; stroke-linejoin:round; stroke-width:4; stroke-opacity:1; fill:none\" points=\"\n  517.202,1423.18 517.202,1404.28 \n  \"/>\n<polyline clip-path=\"url(#clip100)\" style=\"stroke:#000000; stroke-linecap:butt; stroke-linejoin:round; stroke-width:4; stroke-opacity:1; fill:none\" points=\"\n  1035.53,1423.18 1035.53,1404.28 \n  \"/>\n<polyline clip-path=\"url(#clip100)\" style=\"stroke:#000000; stroke-linecap:butt; stroke-linejoin:round; stroke-width:4; stroke-opacity:1; fill:none\" points=\"\n  1553.85,1423.18 1553.85,1404.28 \n  \"/>\n<polyline clip-path=\"url(#clip100)\" style=\"stroke:#000000; stroke-linecap:butt; stroke-linejoin:round; stroke-width:4; stroke-opacity:1; fill:none\" points=\"\n  2072.17,1423.18 2072.17,1404.28 \n  \"/>\n<path clip-path=\"url(#clip100)\" d=\"M511.855 1481.64 L528.174 1481.64 L528.174 1485.58 L506.23 1485.58 L506.23 1481.64 Q508.892 1478.89 513.475 1474.26 Q518.082 1469.61 519.262 1468.27 Q521.507 1465.74 522.387 1464.01 Q523.29 1462.25 523.29 1460.56 Q523.29 1457.8 521.345 1456.07 Q519.424 1454.33 516.322 1454.33 Q514.123 1454.33 511.67 1455.09 Q509.239 1455.86 506.461 1457.41 L506.461 1452.69 Q509.285 1451.55 511.739 1450.97 Q514.193 1450.39 516.23 1450.39 Q521.6 1450.39 524.794 1453.08 Q527.989 1455.77 527.989 1460.26 Q527.989 1462.39 527.179 1464.31 Q526.392 1466.2 524.285 1468.8 Q523.707 1469.47 520.605 1472.69 Q517.503 1475.88 511.855 1481.64 Z\" fill=\"#000000\" fill-rule=\"evenodd\" fill-opacity=\"1\" /><path clip-path=\"url(#clip100)\" d=\"M1039.77 1466.95 Q1043.13 1467.66 1045 1469.93 Q1046.9 1472.2 1046.9 1475.53 Q1046.9 1480.65 1043.38 1483.45 Q1039.87 1486.25 1033.38 1486.25 Q1031.21 1486.25 1028.89 1485.81 Q1026.6 1485.39 1024.15 1484.54 L1024.15 1480.02 Q1026.09 1481.16 1028.41 1481.74 Q1030.72 1482.32 1033.25 1482.32 Q1037.64 1482.32 1039.93 1480.58 Q1042.25 1478.84 1042.25 1475.53 Q1042.25 1472.48 1040.1 1470.77 Q1037.97 1469.03 1034.15 1469.03 L1030.12 1469.03 L1030.12 1465.19 L1034.33 1465.19 Q1037.78 1465.19 1039.61 1463.82 Q1041.44 1462.43 1041.44 1459.84 Q1041.44 1457.18 1039.54 1455.77 Q1037.67 1454.33 1034.15 1454.33 Q1032.23 1454.33 1030.03 1454.75 Q1027.83 1455.16 1025.19 1456.04 L1025.19 1451.88 Q1027.85 1451.14 1030.17 1450.77 Q1032.5 1450.39 1034.56 1450.39 Q1039.89 1450.39 1042.99 1452.83 Q1046.09 1455.23 1046.09 1459.35 Q1046.09 1462.22 1044.45 1464.21 Q1042.81 1466.18 1039.77 1466.95 Z\" fill=\"#000000\" fill-rule=\"evenodd\" fill-opacity=\"1\" /><path clip-path=\"url(#clip100)\" d=\"M1556.86 1455.09 L1545.05 1473.54 L1556.86 1473.54 L1556.86 1455.09 M1555.63 1451.02 L1561.51 1451.02 L1561.51 1473.54 L1566.44 1473.54 L1566.44 1477.43 L1561.51 1477.43 L1561.51 1485.58 L1556.86 1485.58 L1556.86 1477.43 L1541.26 1477.43 L1541.26 1472.92 L1555.63 1451.02 Z\" fill=\"#000000\" fill-rule=\"evenodd\" fill-opacity=\"1\" /><path clip-path=\"url(#clip100)\" d=\"M2062.45 1451.02 L2080.81 1451.02 L2080.81 1454.96 L2066.73 1454.96 L2066.73 1463.43 Q2067.75 1463.08 2068.77 1462.92 Q2069.79 1462.73 2070.81 1462.73 Q2076.59 1462.73 2079.97 1465.9 Q2083.35 1469.08 2083.35 1474.49 Q2083.35 1480.07 2079.88 1483.17 Q2076.41 1486.25 2070.09 1486.25 Q2067.91 1486.25 2065.64 1485.88 Q2063.4 1485.51 2060.99 1484.77 L2060.99 1480.07 Q2063.07 1481.2 2065.3 1481.76 Q2067.52 1482.32 2070 1482.32 Q2074 1482.32 2076.34 1480.21 Q2078.68 1478.1 2078.68 1474.49 Q2078.68 1470.88 2076.34 1468.77 Q2074 1466.67 2070 1466.67 Q2068.12 1466.67 2066.25 1467.08 Q2064.39 1467.5 2062.45 1468.38 L2062.45 1451.02 Z\" fill=\"#000000\" fill-rule=\"evenodd\" fill-opacity=\"1\" /><path clip-path=\"url(#clip100)\" d=\"M1235.22 1520.52 L1241.71 1520.52 L1251.7 1560.69 L1261.67 1520.52 L1268.89 1520.52 L1278.88 1560.69 L1288.85 1520.52 L1295.37 1520.52 L1283.44 1568.04 L1275.35 1568.04 L1265.33 1526.79 L1255.2 1568.04 L1247.12 1568.04 L1235.22 1520.52 Z\" fill=\"#000000\" fill-rule=\"evenodd\" fill-opacity=\"1\" /><path clip-path=\"url(#clip100)\" d=\"M1309.44 1522.27 L1309.44 1532.4 L1321.5 1532.4 L1321.5 1536.95 L1309.44 1536.95 L1309.44 1556.3 Q1309.44 1560.66 1310.62 1561.9 Q1311.83 1563.14 1315.49 1563.14 L1321.5 1563.14 L1321.5 1568.04 L1315.49 1568.04 Q1308.71 1568.04 1306.13 1565.53 Q1303.55 1562.98 1303.55 1556.3 L1303.55 1536.95 L1299.26 1536.95 L1299.26 1532.4 L1303.55 1532.4 L1303.55 1522.27 L1309.44 1522.27 Z\" fill=\"#000000\" fill-rule=\"evenodd\" fill-opacity=\"1\" /><polyline clip-path=\"url(#clip102)\" style=\"stroke:#000000; stroke-linecap:butt; stroke-linejoin:round; stroke-width:2; stroke-opacity:0.1; fill:none\" points=\"\n  203.964,1410.92 2352.76,1410.92 \n  \"/>\n<polyline clip-path=\"url(#clip102)\" style=\"stroke:#000000; stroke-linecap:butt; stroke-linejoin:round; stroke-width:2; stroke-opacity:0.1; fill:none\" points=\"\n  203.964,1104.38 2352.76,1104.38 \n  \"/>\n<polyline clip-path=\"url(#clip102)\" style=\"stroke:#000000; stroke-linecap:butt; stroke-linejoin:round; stroke-width:2; stroke-opacity:0.1; fill:none\" points=\"\n  203.964,797.849 2352.76,797.849 \n  \"/>\n<polyline clip-path=\"url(#clip102)\" style=\"stroke:#000000; stroke-linecap:butt; stroke-linejoin:round; stroke-width:2; stroke-opacity:0.1; fill:none\" points=\"\n  203.964,491.314 2352.76,491.314 \n  \"/>\n<polyline clip-path=\"url(#clip102)\" style=\"stroke:#000000; stroke-linecap:butt; stroke-linejoin:round; stroke-width:2; stroke-opacity:0.1; fill:none\" points=\"\n  203.964,184.779 2352.76,184.779 \n  \"/>\n<polyline clip-path=\"url(#clip100)\" style=\"stroke:#000000; stroke-linecap:butt; stroke-linejoin:round; stroke-width:4; stroke-opacity:1; fill:none\" points=\"\n  203.964,1423.18 203.964,123.472 \n  \"/>\n<polyline clip-path=\"url(#clip100)\" style=\"stroke:#000000; stroke-linecap:butt; stroke-linejoin:round; stroke-width:4; stroke-opacity:1; fill:none\" points=\"\n  203.964,1410.92 222.861,1410.92 \n  \"/>\n<polyline clip-path=\"url(#clip100)\" style=\"stroke:#000000; stroke-linecap:butt; stroke-linejoin:round; stroke-width:4; stroke-opacity:1; fill:none\" points=\"\n  203.964,1104.38 222.861,1104.38 \n  \"/>\n<polyline clip-path=\"url(#clip100)\" style=\"stroke:#000000; stroke-linecap:butt; stroke-linejoin:round; stroke-width:4; stroke-opacity:1; fill:none\" points=\"\n  203.964,797.849 222.861,797.849 \n  \"/>\n<polyline clip-path=\"url(#clip100)\" style=\"stroke:#000000; stroke-linecap:butt; stroke-linejoin:round; stroke-width:4; stroke-opacity:1; fill:none\" points=\"\n  203.964,491.314 222.861,491.314 \n  \"/>\n<polyline clip-path=\"url(#clip100)\" style=\"stroke:#000000; stroke-linecap:butt; stroke-linejoin:round; stroke-width:4; stroke-opacity:1; fill:none\" points=\"\n  203.964,184.779 222.861,184.779 \n  \"/>\n<path clip-path=\"url(#clip100)\" d=\"M116.668 1424.26 L124.306 1424.26 L124.306 1397.9 L115.996 1399.56 L115.996 1395.31 L124.26 1393.64 L128.936 1393.64 L128.936 1424.26 L136.575 1424.26 L136.575 1428.2 L116.668 1428.2 L116.668 1424.26 Z\" fill=\"#000000\" fill-rule=\"evenodd\" fill-opacity=\"1\" /><path clip-path=\"url(#clip100)\" d=\"M156.019 1396.72 Q152.408 1396.72 150.579 1400.28 Q148.774 1403.82 148.774 1410.95 Q148.774 1418.06 150.579 1421.62 Q152.408 1425.17 156.019 1425.17 Q159.653 1425.17 161.459 1421.62 Q163.288 1418.06 163.288 1410.95 Q163.288 1403.82 161.459 1400.28 Q159.653 1396.72 156.019 1396.72 M156.019 1393.01 Q161.829 1393.01 164.885 1397.62 Q167.964 1402.2 167.964 1410.95 Q167.964 1419.68 164.885 1424.29 Q161.829 1428.87 156.019 1428.87 Q150.209 1428.87 147.13 1424.29 Q144.075 1419.68 144.075 1410.95 Q144.075 1402.2 147.13 1397.62 Q150.209 1393.01 156.019 1393.01 Z\" fill=\"#000000\" fill-rule=\"evenodd\" fill-opacity=\"1\" /><path clip-path=\"url(#clip100)\" d=\"M117.663 1117.73 L125.302 1117.73 L125.302 1091.36 L116.992 1093.03 L116.992 1088.77 L125.255 1087.1 L129.931 1087.1 L129.931 1117.73 L137.57 1117.73 L137.57 1121.66 L117.663 1121.66 L117.663 1117.73 Z\" fill=\"#000000\" fill-rule=\"evenodd\" fill-opacity=\"1\" /><path clip-path=\"url(#clip100)\" d=\"M147.061 1087.1 L165.417 1087.1 L165.417 1091.04 L151.343 1091.04 L151.343 1099.51 Q152.362 1099.16 153.38 1099 Q154.399 1098.82 155.417 1098.82 Q161.204 1098.82 164.584 1101.99 Q167.964 1105.16 167.964 1110.58 Q167.964 1116.15 164.491 1119.26 Q161.019 1122.33 154.7 1122.33 Q152.524 1122.33 150.255 1121.96 Q148.01 1121.59 145.603 1120.85 L145.603 1116.15 Q147.686 1117.29 149.908 1117.84 Q152.13 1118.4 154.607 1118.4 Q158.612 1118.4 160.95 1116.29 Q163.288 1114.19 163.288 1110.58 Q163.288 1106.96 160.95 1104.86 Q158.612 1102.75 154.607 1102.75 Q152.732 1102.75 150.857 1103.17 Q149.005 1103.59 147.061 1104.46 L147.061 1087.1 Z\" fill=\"#000000\" fill-rule=\"evenodd\" fill-opacity=\"1\" /><path clip-path=\"url(#clip100)\" d=\"M119.885 811.194 L136.204 811.194 L136.204 815.129 L114.26 815.129 L114.26 811.194 Q116.922 808.439 121.505 803.809 Q126.112 799.157 127.292 797.814 Q129.538 795.291 130.417 793.555 Q131.32 791.796 131.32 790.106 Q131.32 787.351 129.376 785.615 Q127.455 783.879 124.353 783.879 Q122.154 783.879 119.7 784.643 Q117.269 785.407 114.492 786.958 L114.492 782.235 Q117.316 781.101 119.769 780.522 Q122.223 779.944 124.26 779.944 Q129.63 779.944 132.825 782.629 Q136.019 785.314 136.019 789.805 Q136.019 791.934 135.209 793.856 Q134.422 795.754 132.316 798.346 Q131.737 799.018 128.635 802.235 Q125.533 805.43 119.885 811.194 Z\" fill=\"#000000\" fill-rule=\"evenodd\" fill-opacity=\"1\" /><path clip-path=\"url(#clip100)\" d=\"M156.019 783.647 Q152.408 783.647 150.579 787.212 Q148.774 790.754 148.774 797.883 Q148.774 804.99 150.579 808.555 Q152.408 812.096 156.019 812.096 Q159.653 812.096 161.459 808.555 Q163.288 804.99 163.288 797.883 Q163.288 790.754 161.459 787.212 Q159.653 783.647 156.019 783.647 M156.019 779.944 Q161.829 779.944 164.885 784.55 Q167.964 789.134 167.964 797.883 Q167.964 806.61 164.885 811.217 Q161.829 815.8 156.019 815.8 Q150.209 815.8 147.13 811.217 Q144.075 806.61 144.075 797.883 Q144.075 789.134 147.13 784.55 Q150.209 779.944 156.019 779.944 Z\" fill=\"#000000\" fill-rule=\"evenodd\" fill-opacity=\"1\" /><path clip-path=\"url(#clip100)\" d=\"M120.88 504.659 L137.2 504.659 L137.2 508.594 L115.256 508.594 L115.256 504.659 Q117.918 501.904 122.501 497.275 Q127.107 492.622 128.288 491.279 Q130.533 488.756 131.413 487.02 Q132.316 485.261 132.316 483.571 Q132.316 480.816 130.371 479.08 Q128.45 477.344 125.348 477.344 Q123.149 477.344 120.695 478.108 Q118.265 478.872 115.487 480.423 L115.487 475.701 Q118.311 474.566 120.765 473.988 Q123.218 473.409 125.255 473.409 Q130.626 473.409 133.82 476.094 Q137.015 478.779 137.015 483.27 Q137.015 485.4 136.204 487.321 Q135.417 489.219 133.311 491.812 Q132.732 492.483 129.63 495.7 Q126.529 498.895 120.88 504.659 Z\" fill=\"#000000\" fill-rule=\"evenodd\" fill-opacity=\"1\" /><path clip-path=\"url(#clip100)\" d=\"M147.061 474.034 L165.417 474.034 L165.417 477.969 L151.343 477.969 L151.343 486.441 Q152.362 486.094 153.38 485.932 Q154.399 485.747 155.417 485.747 Q161.204 485.747 164.584 488.918 Q167.964 492.089 167.964 497.506 Q167.964 503.085 164.491 506.187 Q161.019 509.265 154.7 509.265 Q152.524 509.265 150.255 508.895 Q148.01 508.524 145.603 507.784 L145.603 503.085 Q147.686 504.219 149.908 504.775 Q152.13 505.33 154.607 505.33 Q158.612 505.33 160.95 503.224 Q163.288 501.117 163.288 497.506 Q163.288 493.895 160.95 491.788 Q158.612 489.682 154.607 489.682 Q152.732 489.682 150.857 490.099 Q149.005 490.515 147.061 491.395 L147.061 474.034 Z\" fill=\"#000000\" fill-rule=\"evenodd\" fill-opacity=\"1\" /><path clip-path=\"url(#clip100)\" d=\"M130.024 183.425 Q133.38 184.143 135.255 186.411 Q137.154 188.68 137.154 192.013 Q137.154 197.129 133.635 199.929 Q130.117 202.73 123.635 202.73 Q121.459 202.73 119.144 202.291 Q116.853 201.874 114.399 201.017 L114.399 196.504 Q116.343 197.638 118.658 198.217 Q120.973 198.795 123.496 198.795 Q127.894 198.795 130.186 197.059 Q132.501 195.323 132.501 192.013 Q132.501 188.957 130.348 187.244 Q128.218 185.508 124.399 185.508 L120.371 185.508 L120.371 181.666 L124.584 181.666 Q128.033 181.666 129.862 180.3 Q131.691 178.911 131.691 176.318 Q131.691 173.656 129.792 172.244 Q127.917 170.809 124.399 170.809 Q122.478 170.809 120.279 171.226 Q118.08 171.643 115.441 172.522 L115.441 168.356 Q118.103 167.615 120.418 167.244 Q122.755 166.874 124.816 166.874 Q130.14 166.874 133.242 169.305 Q136.343 171.712 136.343 175.832 Q136.343 178.703 134.7 180.693 Q133.056 182.661 130.024 183.425 Z\" fill=\"#000000\" fill-rule=\"evenodd\" fill-opacity=\"1\" /><path clip-path=\"url(#clip100)\" d=\"M156.019 170.578 Q152.408 170.578 150.579 174.143 Q148.774 177.684 148.774 184.814 Q148.774 191.92 150.579 195.485 Q152.408 199.027 156.019 199.027 Q159.653 199.027 161.459 195.485 Q163.288 191.92 163.288 184.814 Q163.288 177.684 161.459 174.143 Q159.653 170.578 156.019 170.578 M156.019 166.874 Q161.829 166.874 164.885 171.481 Q167.964 176.064 167.964 184.814 Q167.964 193.541 164.885 198.147 Q161.829 202.73 156.019 202.73 Q150.209 202.73 147.13 198.147 Q144.075 193.541 144.075 184.814 Q144.075 176.064 147.13 171.481 Q150.209 166.874 156.019 166.874 Z\" fill=\"#000000\" fill-rule=\"evenodd\" fill-opacity=\"1\" /><path clip-path=\"url(#clip100)\" d=\"M16.4842 840.484 L16.4842 830.904 L48.8219 818.777 L16.4842 806.587 L16.4842 797.006 L64.0042 797.006 L64.0042 803.277 L22.277 803.277 L54.8694 815.531 L54.8694 821.992 L22.277 834.246 L64.0042 834.246 L64.0042 840.484 L16.4842 840.484 Z\" fill=\"#000000\" fill-rule=\"evenodd\" fill-opacity=\"1\" /><path clip-path=\"url(#clip100)\" d=\"M21.7677 777.814 L39.6235 777.814 L39.6235 769.729 Q39.6235 765.242 37.3 762.791 Q34.9765 760.34 30.6797 760.34 Q26.4147 760.34 24.0912 762.791 Q21.7677 765.242 21.7677 769.729 L21.7677 777.814 M16.4842 784.243 L16.4842 769.729 Q16.4842 761.74 20.1126 757.666 Q23.7092 753.56 30.6797 753.56 Q37.7138 753.56 41.3104 757.666 Q44.907 761.74 44.907 769.729 L44.907 777.814 L64.0042 777.814 L64.0042 784.243 L16.4842 784.243 Z\" fill=\"#000000\" fill-rule=\"evenodd\" fill-opacity=\"1\" /><path clip-path=\"url(#clip100)\" d=\"M57.2247 712.533 L44.4614 712.533 L44.4614 723.037 L39.1779 723.037 L39.1779 706.168 L59.58 706.168 Q62.2218 709.892 63.5904 714.38 Q64.9272 718.867 64.9272 723.96 Q64.9272 735.1 58.4342 741.402 Q51.9093 747.672 40.2919 747.672 Q28.6427 747.672 22.1496 741.402 Q15.6248 735.1 15.6248 723.96 Q15.6248 719.313 16.7706 715.143 Q17.9164 710.942 20.1444 707.409 L26.9876 707.409 Q23.9639 710.974 22.4361 714.984 Q20.9083 718.995 20.9083 723.419 Q20.9083 732.14 25.7781 736.532 Q30.6479 740.893 40.2919 740.893 Q49.9041 740.893 54.7739 736.532 Q59.6436 732.14 59.6436 723.419 Q59.6436 720.013 59.0707 717.34 Q58.466 714.666 57.2247 712.533 Z\" fill=\"#000000\" fill-rule=\"evenodd\" fill-opacity=\"1\" /><path clip-path=\"url(#clip100)\" d=\"M796.525 14.0809 L796.525 22.0612 Q791.866 19.8332 787.734 18.7395 Q783.603 17.6457 779.754 17.6457 Q773.07 17.6457 769.424 20.2383 Q765.819 22.8309 765.819 27.611 Q765.819 31.6214 768.209 33.6873 Q770.64 35.7128 777.364 36.9686 L782.306 37.9813 Q791.461 39.7232 795.796 44.1387 Q800.171 48.5136 800.171 55.8863 Q800.171 64.6767 794.256 69.2137 Q788.383 73.7508 777 73.7508 Q772.706 73.7508 767.845 72.7785 Q763.024 71.8063 757.839 69.9024 L757.839 61.4765 Q762.821 64.2716 767.601 65.6895 Q772.382 67.1073 777 67.1073 Q784.008 67.1073 787.815 64.3527 Q791.623 61.598 791.623 56.4939 Q791.623 52.0379 788.869 49.5264 Q786.155 47.0148 779.916 45.759 L774.934 44.7868 Q765.779 42.9639 761.687 39.075 Q757.596 35.1862 757.596 28.2591 Q757.596 20.2383 763.227 15.6203 Q768.898 11.0023 778.822 11.0023 Q783.076 11.0023 787.491 11.7719 Q791.907 12.5416 796.525 14.0809 Z\" fill=\"#000000\" fill-rule=\"evenodd\" fill-opacity=\"1\" /><path clip-path=\"url(#clip100)\" d=\"M845.257 28.9478 L845.257 35.9153 Q842.098 34.1734 838.897 33.3227 Q835.738 32.4315 832.497 32.4315 Q825.246 32.4315 821.235 37.0496 Q817.225 41.6271 817.225 49.9314 Q817.225 58.2358 821.235 62.8538 Q825.246 67.4314 832.497 67.4314 Q835.738 67.4314 838.897 66.5807 Q842.098 65.6895 845.257 63.9476 L845.257 70.8341 Q842.138 72.2924 838.776 73.0216 Q835.454 73.7508 831.687 73.7508 Q821.438 73.7508 815.402 67.3098 Q809.366 60.8689 809.366 49.9314 Q809.366 38.832 815.443 32.472 Q821.56 26.1121 832.173 26.1121 Q835.616 26.1121 838.897 26.8413 Q842.179 27.5299 845.257 28.9478 Z\" fill=\"#000000\" fill-rule=\"evenodd\" fill-opacity=\"1\" /><path clip-path=\"url(#clip100)\" d=\"M878.839 49.7694 Q869.806 49.7694 866.322 51.8354 Q862.838 53.9013 862.838 58.8839 Q862.838 62.8538 865.431 65.2034 Q868.064 67.5124 872.56 67.5124 Q878.758 67.5124 882.485 63.1374 Q886.252 58.7219 886.252 51.4303 L886.252 49.7694 L878.839 49.7694 M893.706 46.6907 L893.706 72.576 L886.252 72.576 L886.252 65.6895 Q883.7 69.8214 879.893 71.8063 Q876.085 73.7508 870.575 73.7508 Q863.608 73.7508 859.476 69.8619 Q855.385 65.9325 855.385 59.3701 Q855.385 51.7138 860.489 47.825 Q865.633 43.9361 875.801 43.9361 L886.252 43.9361 L886.252 43.2069 Q886.252 38.0623 882.85 35.2672 Q879.487 32.4315 873.371 32.4315 Q869.482 32.4315 865.795 33.3632 Q862.109 34.295 858.706 36.1584 L858.706 29.2718 Q862.798 27.692 866.646 26.9223 Q870.494 26.1121 874.14 26.1121 Q883.984 26.1121 888.845 31.2163 Q893.706 36.3204 893.706 46.6907 Z\" fill=\"#000000\" fill-rule=\"evenodd\" fill-opacity=\"1\" /><path clip-path=\"url(#clip100)\" d=\"M916.432 14.324 L916.432 27.2059 L931.785 27.2059 L931.785 32.9987 L916.432 32.9987 L916.432 57.6282 Q916.432 63.1779 917.931 64.7578 Q919.47 66.3376 924.128 66.3376 L931.785 66.3376 L931.785 72.576 L924.128 72.576 Q915.5 72.576 912.219 69.3758 Q908.938 66.1351 908.938 57.6282 L908.938 32.9987 L903.469 32.9987 L903.469 27.2059 L908.938 27.2059 L908.938 14.324 L916.432 14.324 Z\" fill=\"#000000\" fill-rule=\"evenodd\" fill-opacity=\"1\" /><path clip-path=\"url(#clip100)\" d=\"M948.96 14.324 L948.96 27.2059 L964.313 27.2059 L964.313 32.9987 L948.96 32.9987 L948.96 57.6282 Q948.96 63.1779 950.459 64.7578 Q951.999 66.3376 956.657 66.3376 L964.313 66.3376 L964.313 72.576 L956.657 72.576 Q948.029 72.576 944.748 69.3758 Q941.466 66.1351 941.466 57.6282 L941.466 32.9987 L935.998 32.9987 L935.998 27.2059 L941.466 27.2059 L941.466 14.324 L948.96 14.324 Z\" fill=\"#000000\" fill-rule=\"evenodd\" fill-opacity=\"1\" /><path clip-path=\"url(#clip100)\" d=\"M1012.92 48.0275 L1012.92 51.6733 L978.654 51.6733 Q979.14 59.3701 983.272 63.421 Q987.444 67.4314 994.857 67.4314 Q999.151 67.4314 1003.16 66.3781 Q1007.21 65.3249 1011.18 63.2184 L1011.18 70.267 Q1007.17 71.9684 1002.96 72.8596 Q998.746 73.7508 994.412 73.7508 Q983.555 73.7508 977.195 67.4314 Q970.876 61.1119 970.876 50.3365 Q970.876 39.1965 976.871 32.6746 Q982.907 26.1121 993.115 26.1121 Q1002.27 26.1121 1007.58 32.0264 Q1012.92 37.9003 1012.92 48.0275 M1005.47 45.84 Q1005.39 39.7232 1002.03 36.0774 Q998.706 32.4315 993.196 32.4315 Q986.958 32.4315 983.191 35.9558 Q979.464 39.4801 978.897 45.8805 L1005.47 45.84 Z\" fill=\"#000000\" fill-rule=\"evenodd\" fill-opacity=\"1\" /><path clip-path=\"url(#clip100)\" d=\"M1051.45 34.1734 Q1050.19 33.4443 1048.69 33.1202 Q1047.24 32.7556 1045.45 32.7556 Q1039.13 32.7556 1035.73 36.8875 Q1032.37 40.9789 1032.37 48.6757 L1032.37 72.576 L1024.87 72.576 L1024.87 27.2059 L1032.37 27.2059 L1032.37 34.2544 Q1034.72 30.1225 1038.49 28.1376 Q1042.25 26.1121 1047.64 26.1121 Q1048.41 26.1121 1049.34 26.2337 Q1050.27 26.3147 1051.41 26.5172 L1051.45 34.1734 Z\" fill=\"#000000\" fill-rule=\"evenodd\" fill-opacity=\"1\" /><path clip-path=\"url(#clip100)\" d=\"M1092.85 65.7705 L1092.85 89.8329 L1085.35 89.8329 L1085.35 27.2059 L1092.85 27.2059 L1092.85 34.0924 Q1095.2 30.0415 1098.76 28.0971 Q1102.37 26.1121 1107.35 26.1121 Q1115.61 26.1121 1120.76 32.6746 Q1125.94 39.2371 1125.94 49.9314 Q1125.94 60.6258 1120.76 67.1883 Q1115.61 73.7508 1107.35 73.7508 Q1102.37 73.7508 1098.76 71.8063 Q1095.2 69.8214 1092.85 65.7705 M1118.21 49.9314 Q1118.21 41.7081 1114.8 37.0496 Q1111.44 32.3505 1105.53 32.3505 Q1099.61 32.3505 1096.21 37.0496 Q1092.85 41.7081 1092.85 49.9314 Q1092.85 58.1548 1096.21 62.8538 Q1099.61 67.5124 1105.53 67.5124 Q1111.44 67.5124 1114.8 62.8538 Q1118.21 58.1548 1118.21 49.9314 Z\" fill=\"#000000\" fill-rule=\"evenodd\" fill-opacity=\"1\" /><path clip-path=\"url(#clip100)\" d=\"M1138.3 9.54393 L1145.75 9.54393 L1145.75 72.576 L1138.3 72.576 L1138.3 9.54393 Z\" fill=\"#000000\" fill-rule=\"evenodd\" fill-opacity=\"1\" /><path clip-path=\"url(#clip100)\" d=\"M1178.93 32.4315 Q1172.93 32.4315 1169.45 37.1306 Q1165.97 41.7891 1165.97 49.9314 Q1165.97 58.0738 1169.41 62.7728 Q1172.89 67.4314 1178.93 67.4314 Q1184.89 67.4314 1188.37 62.7323 Q1191.85 58.0333 1191.85 49.9314 Q1191.85 41.8701 1188.37 37.1711 Q1184.89 32.4315 1178.93 32.4315 M1178.93 26.1121 Q1188.65 26.1121 1194.2 32.4315 Q1199.75 38.7509 1199.75 49.9314 Q1199.75 61.0714 1194.2 67.4314 Q1188.65 73.7508 1178.93 73.7508 Q1169.17 73.7508 1163.62 67.4314 Q1158.11 61.0714 1158.11 49.9314 Q1158.11 38.7509 1163.62 32.4315 Q1169.17 26.1121 1178.93 26.1121 Z\" fill=\"#000000\" fill-rule=\"evenodd\" fill-opacity=\"1\" /><path clip-path=\"url(#clip100)\" d=\"M1219.48 14.324 L1219.48 27.2059 L1234.83 27.2059 L1234.83 32.9987 L1219.48 32.9987 L1219.48 57.6282 Q1219.48 63.1779 1220.98 64.7578 Q1222.52 66.3376 1227.18 66.3376 L1234.83 66.3376 L1234.83 72.576 L1227.18 72.576 Q1218.55 72.576 1215.27 69.3758 Q1211.99 66.1351 1211.99 57.6282 L1211.99 32.9987 L1206.52 32.9987 L1206.52 27.2059 L1211.99 27.2059 L1211.99 14.324 L1219.48 14.324 Z\" fill=\"#000000\" fill-rule=\"evenodd\" fill-opacity=\"1\" /><path clip-path=\"url(#clip100)\" d=\"M1288.59 32.4315 Q1282.59 32.4315 1279.11 37.1306 Q1275.63 41.7891 1275.63 49.9314 Q1275.63 58.0738 1279.07 62.7728 Q1282.55 67.4314 1288.59 67.4314 Q1294.54 67.4314 1298.03 62.7323 Q1301.51 58.0333 1301.51 49.9314 Q1301.51 41.8701 1298.03 37.1711 Q1294.54 32.4315 1288.59 32.4315 M1288.59 26.1121 Q1298.31 26.1121 1303.86 32.4315 Q1309.41 38.7509 1309.41 49.9314 Q1309.41 61.0714 1303.86 67.4314 Q1298.31 73.7508 1288.59 73.7508 Q1278.83 73.7508 1273.28 67.4314 Q1267.77 61.0714 1267.77 49.9314 Q1267.77 38.7509 1273.28 32.4315 Q1278.83 26.1121 1288.59 26.1121 Z\" fill=\"#000000\" fill-rule=\"evenodd\" fill-opacity=\"1\" /><path clip-path=\"url(#clip100)\" d=\"M1344.73 9.54393 L1344.73 15.7418 L1337.6 15.7418 Q1333.59 15.7418 1332.01 17.3622 Q1330.47 18.9825 1330.47 23.1955 L1330.47 27.2059 L1342.75 27.2059 L1342.75 32.9987 L1330.47 32.9987 L1330.47 72.576 L1322.98 72.576 L1322.98 32.9987 L1315.85 32.9987 L1315.85 27.2059 L1322.98 27.2059 L1322.98 24.0462 Q1322.98 16.471 1326.5 13.0277 Q1330.03 9.54393 1337.69 9.54393 L1344.73 9.54393 Z\" fill=\"#000000\" fill-rule=\"evenodd\" fill-opacity=\"1\" /><path clip-path=\"url(#clip100)\" d=\"M1412.67 35.9153 Q1415.46 30.8922 1419.35 28.5022 Q1423.24 26.1121 1428.51 26.1121 Q1435.6 26.1121 1439.44 31.0947 Q1443.29 36.0368 1443.29 45.1919 L1443.29 72.576 L1435.8 72.576 L1435.8 45.4349 Q1435.8 38.913 1433.49 35.7533 Q1431.18 32.5936 1426.44 32.5936 Q1420.65 32.5936 1417.29 36.4419 Q1413.92 40.2903 1413.92 46.9338 L1413.92 72.576 L1406.43 72.576 L1406.43 45.4349 Q1406.43 38.8725 1404.12 35.7533 Q1401.81 32.5936 1396.99 32.5936 Q1391.28 32.5936 1387.92 36.4824 Q1384.55 40.3308 1384.55 46.9338 L1384.55 72.576 L1377.06 72.576 L1377.06 27.2059 L1384.55 27.2059 L1384.55 34.2544 Q1387.11 30.082 1390.67 28.0971 Q1394.24 26.1121 1399.14 26.1121 Q1404.08 26.1121 1407.52 28.6237 Q1411.01 31.1352 1412.67 35.9153 Z\" fill=\"#000000\" fill-rule=\"evenodd\" fill-opacity=\"1\" /><path clip-path=\"url(#clip100)\" d=\"M1465.37 65.7705 L1465.37 89.8329 L1457.88 89.8329 L1457.88 27.2059 L1465.37 27.2059 L1465.37 34.0924 Q1467.72 30.0415 1471.28 28.0971 Q1474.89 26.1121 1479.87 26.1121 Q1488.14 26.1121 1493.28 32.6746 Q1498.47 39.2371 1498.47 49.9314 Q1498.47 60.6258 1493.28 67.1883 Q1488.14 73.7508 1479.87 73.7508 Q1474.89 73.7508 1471.28 71.8063 Q1467.72 69.8214 1465.37 65.7705 M1490.73 49.9314 Q1490.73 41.7081 1487.33 37.0496 Q1483.96 32.3505 1478.05 32.3505 Q1472.13 32.3505 1468.73 37.0496 Q1465.37 41.7081 1465.37 49.9314 Q1465.37 58.1548 1468.73 62.8538 Q1472.13 67.5124 1478.05 67.5124 Q1483.96 67.5124 1487.33 62.8538 Q1490.73 58.1548 1490.73 49.9314 Z\" fill=\"#000000\" fill-rule=\"evenodd\" fill-opacity=\"1\" /><path clip-path=\"url(#clip100)\" d=\"M1540.68 49.3643 Q1540.68 41.2625 1537.31 36.8065 Q1533.99 32.3505 1527.96 32.3505 Q1521.96 32.3505 1518.6 36.8065 Q1515.28 41.2625 1515.28 49.3643 Q1515.28 57.4256 1518.6 61.8816 Q1521.96 66.3376 1527.96 66.3376 Q1533.99 66.3376 1537.31 61.8816 Q1540.68 57.4256 1540.68 49.3643 M1548.13 66.9452 Q1548.13 78.5308 1542.99 84.1616 Q1537.84 89.8329 1527.23 89.8329 Q1523.3 89.8329 1519.81 89.2252 Q1516.33 88.6581 1513.05 87.4428 L1513.05 80.1917 Q1516.33 81.9741 1519.53 82.8248 Q1522.73 83.6755 1526.05 83.6755 Q1533.38 83.6755 1537.03 79.8271 Q1540.68 76.0193 1540.68 68.282 L1540.68 64.5957 Q1538.37 68.6061 1534.76 70.5911 Q1531.16 72.576 1526.13 72.576 Q1517.79 72.576 1512.68 66.2161 Q1507.58 59.8562 1507.58 49.3643 Q1507.58 38.832 1512.68 32.472 Q1517.79 26.1121 1526.13 26.1121 Q1531.16 26.1121 1534.76 28.0971 Q1538.37 30.082 1540.68 34.0924 L1540.68 27.2059 L1548.13 27.2059 L1548.13 66.9452 Z\" fill=\"#000000\" fill-rule=\"evenodd\" fill-opacity=\"1\" /><path clip-path=\"url(#clip100)\" d=\"M1584.51 27.2059 L1592.41 27.2059 L1606.58 65.2844 L1620.76 27.2059 L1628.66 27.2059 L1611.65 72.576 L1601.52 72.576 L1584.51 27.2059 Z\" fill=\"#000000\" fill-rule=\"evenodd\" fill-opacity=\"1\" /><path clip-path=\"url(#clip100)\" d=\"M1667.87 28.5427 L1667.87 35.5912 Q1664.71 33.9709 1661.31 33.1607 Q1657.91 32.3505 1654.26 32.3505 Q1648.71 32.3505 1645.92 34.0519 Q1643.16 35.7533 1643.16 39.156 Q1643.16 41.7486 1645.15 43.2475 Q1647.13 44.7058 1653.13 46.0426 L1655.68 46.6097 Q1663.62 48.3111 1666.94 51.4303 Q1670.3 54.509 1670.3 60.0587 Q1670.3 66.3781 1665.28 70.0644 Q1660.3 73.7508 1651.55 73.7508 Q1647.9 73.7508 1643.93 73.0216 Q1640 72.3329 1635.63 70.9151 L1635.63 63.2184 Q1639.76 65.3654 1643.77 66.4591 Q1647.78 67.5124 1651.71 67.5124 Q1656.98 67.5124 1659.81 65.73 Q1662.65 63.9071 1662.65 60.6258 Q1662.65 57.5877 1660.58 55.9673 Q1658.56 54.3469 1651.63 52.8481 L1649.04 52.2405 Q1642.11 50.7821 1639.03 47.7845 Q1635.95 44.7463 1635.95 39.4801 Q1635.95 33.0797 1640.49 29.5959 Q1645.03 26.1121 1653.37 26.1121 Q1657.5 26.1121 1661.15 26.7198 Q1664.8 27.3274 1667.87 28.5427 Z\" fill=\"#000000\" fill-rule=\"evenodd\" fill-opacity=\"1\" /><path clip-path=\"url(#clip100)\" d=\"M1704.21 27.2059 L1711.66 27.2059 L1720.98 62.6108 L1730.26 27.2059 L1739.05 27.2059 L1748.37 62.6108 L1757.64 27.2059 L1765.1 27.2059 L1753.23 72.576 L1744.44 72.576 L1734.67 35.3887 L1724.87 72.576 L1716.08 72.576 L1704.21 27.2059 Z\" fill=\"#000000\" fill-rule=\"evenodd\" fill-opacity=\"1\" /><path clip-path=\"url(#clip100)\" d=\"M1783.77 14.324 L1783.77 27.2059 L1799.12 27.2059 L1799.12 32.9987 L1783.77 32.9987 L1783.77 57.6282 Q1783.77 63.1779 1785.27 64.7578 Q1786.81 66.3376 1791.47 66.3376 L1799.12 66.3376 L1799.12 72.576 L1791.47 72.576 Q1782.84 72.576 1779.56 69.3758 Q1776.28 66.1351 1776.28 57.6282 L1776.28 32.9987 L1770.81 32.9987 L1770.81 27.2059 L1776.28 27.2059 L1776.28 14.324 L1783.77 14.324 Z\" fill=\"#000000\" fill-rule=\"evenodd\" fill-opacity=\"1\" /><circle clip-path=\"url(#clip102)\" cx=\"264.778\" cy=\"160.256\" r=\"14\" fill=\"#009af9\" fill-rule=\"evenodd\" fill-opacity=\"1\" stroke=\"#000000\" stroke-opacity=\"1\" stroke-width=\"3.2\"/>\n<circle clip-path=\"url(#clip102)\" cx=\"921.494\" cy=\"712.019\" r=\"14\" fill=\"#009af9\" fill-rule=\"evenodd\" fill-opacity=\"1\" stroke=\"#000000\" stroke-opacity=\"1\" stroke-width=\"3.2\"/>\n<circle clip-path=\"url(#clip102)\" cx=\"838.562\" cy=\"736.542\" r=\"14\" fill=\"#e26f46\" fill-rule=\"evenodd\" fill-opacity=\"1\" stroke=\"#000000\" stroke-opacity=\"1\" stroke-width=\"3.2\"/>\n<circle clip-path=\"url(#clip102)\" cx=\"970.735\" cy=\"736.542\" r=\"14\" fill=\"#e26f46\" fill-rule=\"evenodd\" fill-opacity=\"1\" stroke=\"#000000\" stroke-opacity=\"1\" stroke-width=\"3.2\"/>\n<circle clip-path=\"url(#clip102)\" cx=\"1146.96\" cy=\"712.019\" r=\"14\" fill=\"#e26f46\" fill-rule=\"evenodd\" fill-opacity=\"1\" stroke=\"#000000\" stroke-opacity=\"1\" stroke-width=\"3.2\"/>\n<circle clip-path=\"url(#clip102)\" cx=\"1273.95\" cy=\"914.332\" r=\"14\" fill=\"#e26f46\" fill-rule=\"evenodd\" fill-opacity=\"1\" stroke=\"#000000\" stroke-opacity=\"1\" stroke-width=\"3.2\"/>\n<circle clip-path=\"url(#clip102)\" cx=\"1263.59\" cy=\"846.894\" r=\"14\" fill=\"#e26f46\" fill-rule=\"evenodd\" fill-opacity=\"1\" stroke=\"#000000\" stroke-opacity=\"1\" stroke-width=\"3.2\"/>\n<circle clip-path=\"url(#clip102)\" cx=\"1263.59\" cy=\"932.724\" r=\"14\" fill=\"#e26f46\" fill-rule=\"evenodd\" fill-opacity=\"1\" stroke=\"#000000\" stroke-opacity=\"1\" stroke-width=\"3.2\"/>\n<circle clip-path=\"url(#clip102)\" cx=\"916.311\" cy=\"816.241\" r=\"14\" fill=\"#e26f46\" fill-rule=\"evenodd\" fill-opacity=\"1\" stroke=\"#000000\" stroke-opacity=\"1\" stroke-width=\"3.2\"/>\n<circle clip-path=\"url(#clip102)\" cx=\"1263.59\" cy=\"877.548\" r=\"14\" fill=\"#3da44d\" fill-rule=\"evenodd\" fill-opacity=\"1\" stroke=\"#000000\" stroke-opacity=\"1\" stroke-width=\"3.2\"/>\n<circle clip-path=\"url(#clip102)\" cx=\"1330.97\" cy=\"1147.3\" r=\"14\" fill=\"#3da44d\" fill-rule=\"evenodd\" fill-opacity=\"1\" stroke=\"#000000\" stroke-opacity=\"1\" stroke-width=\"3.2\"/>\n<circle clip-path=\"url(#clip102)\" cx=\"1590.13\" cy=\"1018.55\" r=\"14\" fill=\"#3da44d\" fill-rule=\"evenodd\" fill-opacity=\"1\" stroke=\"#000000\" stroke-opacity=\"1\" stroke-width=\"3.2\"/>\n<circle clip-path=\"url(#clip102)\" cx=\"1413.9\" cy=\"963.378\" r=\"14\" fill=\"#3da44d\" fill-rule=\"evenodd\" fill-opacity=\"1\" stroke=\"#000000\" stroke-opacity=\"1\" stroke-width=\"3.2\"/>\n<circle clip-path=\"url(#clip102)\" cx=\"1439.82\" cy=\"1092.12\" r=\"14\" fill=\"#3da44d\" fill-rule=\"evenodd\" fill-opacity=\"1\" stroke=\"#000000\" stroke-opacity=\"1\" stroke-width=\"3.2\"/>\n<circle clip-path=\"url(#clip102)\" cx=\"2201.75\" cy=\"1386.4\" r=\"14\" fill=\"#3da44d\" fill-rule=\"evenodd\" fill-opacity=\"1\" stroke=\"#000000\" stroke-opacity=\"1\" stroke-width=\"3.2\"/>\n<circle clip-path=\"url(#clip102)\" cx=\"2291.94\" cy=\"1386.4\" r=\"14\" fill=\"#3da44d\" fill-rule=\"evenodd\" fill-opacity=\"1\" stroke=\"#000000\" stroke-opacity=\"1\" stroke-width=\"3.2\"/>\n<circle clip-path=\"url(#clip102)\" cx=\"2250.99\" cy=\"1122.78\" r=\"14\" fill=\"#3da44d\" fill-rule=\"evenodd\" fill-opacity=\"1\" stroke=\"#000000\" stroke-opacity=\"1\" stroke-width=\"3.2\"/>\n<circle clip-path=\"url(#clip102)\" cx=\"1305.05\" cy=\"1073.73\" r=\"14\" fill=\"#3da44d\" fill-rule=\"evenodd\" fill-opacity=\"1\" stroke=\"#000000\" stroke-opacity=\"1\" stroke-width=\"3.2\"/>\n<circle clip-path=\"url(#clip102)\" cx=\"1261\" cy=\"1092.12\" r=\"14\" fill=\"#3da44d\" fill-rule=\"evenodd\" fill-opacity=\"1\" stroke=\"#000000\" stroke-opacity=\"1\" stroke-width=\"3.2\"/>\n<circle clip-path=\"url(#clip102)\" cx=\"1470.92\" cy=\"1208.61\" r=\"14\" fill=\"#3da44d\" fill-rule=\"evenodd\" fill-opacity=\"1\" stroke=\"#000000\" stroke-opacity=\"1\" stroke-width=\"3.2\"/>\n<circle clip-path=\"url(#clip102)\" cx=\"1473.51\" cy=\"846.894\" r=\"14\" fill=\"#3da44d\" fill-rule=\"evenodd\" fill-opacity=\"1\" stroke=\"#000000\" stroke-opacity=\"1\" stroke-width=\"3.2\"/>\n<circle clip-path=\"url(#clip102)\" cx=\"1123.64\" cy=\"1055.34\" r=\"14\" fill=\"#3da44d\" fill-rule=\"evenodd\" fill-opacity=\"1\" stroke=\"#000000\" stroke-opacity=\"1\" stroke-width=\"3.2\"/>\n<circle clip-path=\"url(#clip102)\" cx=\"1330.97\" cy=\"1104.38\" r=\"14\" fill=\"#3da44d\" fill-rule=\"evenodd\" fill-opacity=\"1\" stroke=\"#000000\" stroke-opacity=\"1\" stroke-width=\"3.2\"/>\n<path clip-path=\"url(#clip100)\" d=\"\nM2017.19 374.156 L2281.13 374.156 L2281.13 166.796 L2017.19 166.796  Z\n  \" fill=\"#ffffff\" fill-rule=\"evenodd\" fill-opacity=\"1\"/>\n<polyline clip-path=\"url(#clip100)\" style=\"stroke:#000000; stroke-linecap:butt; stroke-linejoin:round; stroke-width:4; stroke-opacity:1; fill:none\" points=\"\n  2017.19,374.156 2281.13,374.156 2281.13,166.796 2017.19,166.796 2017.19,374.156 \n  \"/>\n<circle clip-path=\"url(#clip100)\" cx=\"2112.69\" cy=\"218.636\" r=\"23\" fill=\"#009af9\" fill-rule=\"evenodd\" fill-opacity=\"1\" stroke=\"#000000\" stroke-opacity=\"1\" stroke-width=\"5.12\"/>\n<path clip-path=\"url(#clip100)\" d=\"M2223.8 205.43 L2211.99 223.879 L2223.8 223.879 L2223.8 205.43 M2222.57 201.356 L2228.45 201.356 L2228.45 223.879 L2233.38 223.879 L2233.38 227.768 L2228.45 227.768 L2228.45 235.916 L2223.8 235.916 L2223.8 227.768 L2208.19 227.768 L2208.19 223.254 L2222.57 201.356 Z\" fill=\"#000000\" fill-rule=\"evenodd\" fill-opacity=\"1\" /><circle clip-path=\"url(#clip100)\" cx=\"2112.69\" cy=\"270.476\" r=\"23\" fill=\"#e26f46\" fill-rule=\"evenodd\" fill-opacity=\"1\" stroke=\"#000000\" stroke-opacity=\"1\" stroke-width=\"5.12\"/>\n<path clip-path=\"url(#clip100)\" d=\"M2220.53 268.612 Q2217.38 268.612 2215.53 270.765 Q2213.7 272.918 2213.7 276.668 Q2213.7 280.395 2215.53 282.571 Q2217.38 284.723 2220.53 284.723 Q2223.68 284.723 2225.51 282.571 Q2227.36 280.395 2227.36 276.668 Q2227.36 272.918 2225.51 270.765 Q2223.68 268.612 2220.53 268.612 M2229.81 253.96 L2229.81 258.219 Q2228.05 257.386 2226.25 256.946 Q2224.47 256.506 2222.71 256.506 Q2218.08 256.506 2215.62 259.631 Q2213.19 262.756 2212.85 269.075 Q2214.21 267.061 2216.27 265.997 Q2218.33 264.909 2220.81 264.909 Q2226.02 264.909 2229.03 268.08 Q2232.06 271.228 2232.06 276.668 Q2232.06 281.992 2228.91 285.209 Q2225.76 288.427 2220.53 288.427 Q2214.54 288.427 2211.36 283.844 Q2208.19 279.237 2208.19 270.51 Q2208.19 262.316 2212.08 257.455 Q2215.97 252.571 2222.52 252.571 Q2224.28 252.571 2226.06 252.918 Q2227.87 253.265 2229.81 253.96 Z\" fill=\"#000000\" fill-rule=\"evenodd\" fill-opacity=\"1\" /><circle clip-path=\"url(#clip100)\" cx=\"2112.69\" cy=\"322.316\" r=\"23\" fill=\"#3da44d\" fill-rule=\"evenodd\" fill-opacity=\"1\" stroke=\"#000000\" stroke-opacity=\"1\" stroke-width=\"5.12\"/>\n<path clip-path=\"url(#clip100)\" d=\"M2220.05 323.184 Q2216.71 323.184 2214.79 324.966 Q2212.89 326.749 2212.89 329.874 Q2212.89 332.999 2214.79 334.781 Q2216.71 336.563 2220.05 336.563 Q2223.38 336.563 2225.3 334.781 Q2227.22 332.975 2227.22 329.874 Q2227.22 326.749 2225.3 324.966 Q2223.4 323.184 2220.05 323.184 M2215.37 321.193 Q2212.36 320.452 2210.67 318.392 Q2209 316.332 2209 313.369 Q2209 309.226 2211.94 306.818 Q2214.91 304.411 2220.05 304.411 Q2225.21 304.411 2228.15 306.818 Q2231.09 309.226 2231.09 313.369 Q2231.09 316.332 2229.4 318.392 Q2227.73 320.452 2224.74 321.193 Q2228.12 321.98 2230 324.272 Q2231.9 326.563 2231.9 329.874 Q2231.9 334.897 2228.82 337.582 Q2225.76 340.267 2220.05 340.267 Q2214.33 340.267 2211.25 337.582 Q2208.19 334.897 2208.19 329.874 Q2208.19 326.563 2210.09 324.272 Q2211.99 321.98 2215.37 321.193 M2213.66 313.809 Q2213.66 316.494 2215.32 317.999 Q2217.01 319.503 2220.05 319.503 Q2223.05 319.503 2224.74 317.999 Q2226.46 316.494 2226.46 313.809 Q2226.46 311.124 2224.74 309.619 Q2223.05 308.114 2220.05 308.114 Q2217.01 308.114 2215.32 309.619 Q2213.66 311.124 2213.66 313.809 Z\" fill=\"#000000\" fill-rule=\"evenodd\" fill-opacity=\"1\" /></svg>\n"
     },
     "execution_count": 58,
     "metadata": {},
     "output_type": "execute_result"
    }
   ],
   "source": [
    "# Basic plotting\n",
    "# we will use Plots Pkg, other package is Gadfly\n",
    "# plot() calls line plot\n",
    "# plot(carsdf3.mpg)\n",
    "# this uses the dot operator\n",
    "gr() # Use gr() as backend, other backend are plotly() and \n",
    "@df carsdf3 plot(:mpg)\n",
    "# this allows for using a data frame (in this case carsdf, but preface with @df)\n",
    "# then pass the plot you want here plot a line plot\n",
    "# then the name of the column in the data frame, here :mpg\n",
    "@df carsdf3 plot(:wt, :mpg, group=:cyl_cat,\n",
    "seriestype=:scatter,\n",
    "title = \"Scatter plot of mpg vs wt\",\n",
    "xlabel = \"Wt\",\n",
    "ylabel = \"MPG\")\n",
    "\n",
    "# So, series type is where you specify what type of plot to plot"
   ]
  },
  {
   "cell_type": "code",
   "execution_count": null,
   "metadata": {},
   "outputs": [],
   "source": []
  }
 ],
 "metadata": {
  "kernelspec": {
   "display_name": "Julia 1.7.2",
   "language": "julia",
   "name": "julia-1.7"
  },
  "language_info": {
   "file_extension": ".jl",
   "mimetype": "application/julia",
   "name": "julia",
   "version": "1.7.2"
  },
  "orig_nbformat": 4
 },
 "nbformat": 4,
 "nbformat_minor": 2
}
